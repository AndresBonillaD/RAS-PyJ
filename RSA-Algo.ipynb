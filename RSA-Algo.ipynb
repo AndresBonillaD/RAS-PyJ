{
 "cells": [
  {
   "cell_type": "markdown",
   "metadata": {},
   "source": [
    "#### Matematicas Discretas \n",
    "#### Taller Algoritmo RSA\n",
    "##### Introducción\n",
    "\n",
    "El algoritmo RSA es una de las piesas de teconolgia mas usadas el dia de hoy, como software de criptografia que permite enviar información a través de la red de manera segura el nombre del algoritmo viene de los nombres de los creadores Rivest, Shamir and Adleman, desarrolladores del sistema en 1977.\n",
    "\n",
    "El algoritmo RSA aplica aritmetica modular, para implementar un sistema de encriptación de llave publica, es decir, un sistema en donde caulquiera pude enviar mensajes, pero solo quien sea dueño del mensaje tiene la información necesaria para realizar las operaciones, puede leer el contenido, la afirmación de que la informacion ecriptada está segura, es sutentada por el sistema, que esta basado en que, la forma de encontrar la llave privada para desencriptar mensajes, a partir de la llave publica, es un problema que no pueden resolver ni los computadores mas poderosos, dada su naturaliza, si se escogen numeros primos suficientemente grandes para generar las claves, el problema se reduce a la factorizacion de un larguisimo numero primo en donde la unica opción es, aparentemente, fuerza bruta.\n",
    "\n",
    "En este contexto los mensajes son interpretados como listas de numeros enteros positivos que para el PC representan, cada uno, un caracter del string que contiene el mensaje. Estos numeros son operados por una funcion $f(w_1) = w_2$ en donde $w_1$ reprecenta el mensaje y $w_2$ es el mensaje encriptado. De manera similar $f^{-1}(w_2) = w_1$ siendo esta ultima la funcion desencriptar.  \n",
    "\n",
    "\n",
    "#### Razonamiento detras de la implementación\n",
    "\n",
    "En este ejemplo escogeremos dos numeros primos arbitrarios y con ellos generaremos los valores para la clave publica y privada correspondientes, para realizar un proceso \"encryptation and decryption\"\n",
    "\n",
    "1. Se seleccionan dos numeros primos\n",
    "\n",
    "    $p, q$\n",
    "\n",
    "   \n",
    "2. Dados $p$ y $q$ se calculan\n",
    "\n",
    "    $m = (p-1)(q-1)$\n",
    "    \n",
    "    $n = pq$\n",
    "      \n",
    "En este momento debemos encontrar dos numeros $x$ y $y$ que cumplan las siguientes coniciones:\n",
    "los números $x, y$ deben ser coprimos de $m$ y se debe cumplir que $xy \\equiv 1(\\mod m)$.\n",
    "\n",
    "Escogemos $x$ igual a un número coprimo de m y luego se soluciona la ecuación modular para $y$ utilizando Euclid's algorithm and backwars substitution encontramos el valor de $y$.\n",
    "\n",
    "$xy \\equiv 1(\\mod m)$\n",
    "   \n",
    "$xy - 1 = km$\n",
    "   \n",
    "$xy - km = 1$\n",
    "   \n",
    "Los numeros $x$ y $y$ se usan para expresar las llaves de encriptación y desencripción ${x,n}$ forman la llave publica y son distribuidos a quines son emisores de los mensajes ${y}$ queda en posición del receptor de los mensajes. De manera que los mensages se encriptan de la siguiente manera.\n",
    "   \n",
    "$f(w_1) = w_1^{x} \\equiv (\\mod n)$\n",
    "   \n",
    "y son desencriptados\n",
    "   \n",
    "$f^{-1}(w_2) = w_2^{y} \\equiv (\\mod n)$\n",
    "\n",
    "\n",
    "#### Referencias\n",
    "Grossman Peter, Discrete Mathematics for Computing, second edition, pg235\n",
    "\n",
    "JonCooperWorks/rsa.py\n",
    "https://gist.github.com/JonCooperWorks/5314103"
   ]
  },
  {
   "cell_type": "code",
   "execution_count": 60,
   "metadata": {},
   "outputs": [],
   "source": [
    "import math as mat"
   ]
  },
  {
   "cell_type": "code",
   "execution_count": 46,
   "metadata": {},
   "outputs": [
    {
     "name": "stdout",
     "output_type": "stream",
     "text": [
      "RSA Encrypter/ Decrypter\n",
      "Enter a prime number (17, 19, 23, etc): 17\n",
      "Enter another prime number (Not one you entered above): 23\n",
      "17 23\n"
     ]
    }
   ],
   "source": [
    "print (\"RSA Encrypter/ Decrypter\")\n",
    "p = int(input(\"Enter a prime number (17, 19, 23, etc): \"))\n",
    "q = int(input(\"Enter another prime number (Not one you entered above): \"))\n",
    "\n",
    "print(p,q)"
   ]
  },
  {
   "cell_type": "code",
   "execution_count": 47,
   "metadata": {},
   "outputs": [
    {
     "name": "stdout",
     "output_type": "stream",
     "text": [
      "n: 391 , m: 352\n"
     ]
    }
   ],
   "source": [
    "# m es el calculo del valor de la funcion PHI para n, que se calculade esa manera ya que conocemos de antemano que p y q son primos\n",
    "n = p*q\n",
    "m = (p-1) * (q-1)\n",
    "\n",
    "print(\"n:\",n,\",\",\"m:\", m)"
   ]
  },
  {
   "cell_type": "code",
   "execution_count": 48,
   "metadata": {},
   "outputs": [],
   "source": [
    "#fucnion para determinar el mcd enre dos numeros\n",
    "def mcd(a, b):\n",
    "    while b != 0:\n",
    "        a, b = b, a % b\n",
    "    return a"
   ]
  },
  {
   "cell_type": "code",
   "execution_count": 9,
   "metadata": {
    "scrolled": true
   },
   "outputs": [
    {
     "name": "stdout",
     "output_type": "stream",
     "text": [
      "algunos coprimos de  60 ; [1, 7, 11, 13, 17, 19, 23, 29, 31, 37, 41, 43, 47, 49, 53, 59, 61, 67, 71, 73]\n"
     ]
    }
   ],
   "source": [
    "#encuentra numeros coprimos de m\n",
    "cont = 0\n",
    "i = 0\n",
    "coprimes = []\n",
    "while cont < 20 and i < 100:\n",
    "    if mcd(m,i) == 1:\n",
    "        coprimes.append(i)\n",
    "        cont += 1\n",
    "    i += 1\n",
    "    \n",
    "print(\"algunos coprimos de \", m, \";\", coprimes)"
   ]
  },
  {
   "cell_type": "code",
   "execution_count": 49,
   "metadata": {},
   "outputs": [],
   "source": [
    "# extended euclid's algorithm to find multipilicative inverse\n",
    "def exEuclid(a, b):\n",
    "    if a == 0:\n",
    "        return (0, 1)\n",
    "    else:\n",
    "        x, y = egcd(b % a, a)\n",
    "        return (y - (b//a) * x, x)"
   ]
  },
  {
   "cell_type": "code",
   "execution_count": 53,
   "metadata": {},
   "outputs": [
    {
     "name": "stdout",
     "output_type": "stream",
     "text": [
      "[1, 7, 11, 13, 17, 19, 23, 29, 31, 37, 41, 43, 47, 49, 53, 59, 61, 67, 71, 73]\n",
      "Select and enter a coprime of m29\n",
      "m: 352 cp: 29\n",
      "k: -7 y: 85\n"
     ]
    }
   ],
   "source": [
    "print(coprimes)\n",
    "cp = int(input(\"Select and enter a coprime of m\"))\n",
    "\n",
    "y,k = exEuclid(cp,m)\n",
    "print(\"m:\",m,\"cp:\",cp)\n",
    "print(\"k:\",k,\"y:\",y)"
   ]
  },
  {
   "cell_type": "code",
   "execution_count": 55,
   "metadata": {},
   "outputs": [
    {
     "name": "stdout",
     "output_type": "stream",
     "text": [
      "y*x + K*m =\n",
      "85 * 29  +  -7 * 352  = \n",
      "1\n"
     ]
    }
   ],
   "source": [
    "#verificacion de la identidad de Bezout\n",
    "print(\"y*x + K*m =\")\n",
    "print(y,\"*\",cp,\" + \",k,\"*\",m,\" = \")\n",
    "print((y * cp) + (k * m))"
   ]
  },
  {
   "cell_type": "code",
   "execution_count": 76,
   "metadata": {},
   "outputs": [],
   "source": [
    "def encrypt(msg):\n",
    "    pot = mat.pow(msg, cp)\n",
    "    encrypted = pot % n\n",
    "    print(pot)\n",
    "    return encrypted\n",
    "\n",
    "def decrypt(msg):\n",
    "    decrypted = mat.pow(msg, y) % n\n",
    "    return decrypted"
   ]
  },
  {
   "cell_type": "code",
   "execution_count": 77,
   "metadata": {},
   "outputs": [
    {
     "name": "stdout",
     "output_type": "stream",
     "text": [
      "2.44462159877485e+69\n",
      "292.0\n"
     ]
    }
   ],
   "source": [
    "mensaje = 247\n",
    "print(encrypt(mensaje))"
   ]
  },
  {
   "cell_type": "code",
   "execution_count": 71,
   "metadata": {},
   "outputs": [
    {
     "name": "stdout",
     "output_type": "stream",
     "text": [
      "323.0\n"
     ]
    }
   ],
   "source": [
    "print(decrypt(292))"
   ]
  }
 ],
 "metadata": {
  "kernelspec": {
   "display_name": "Python 3",
   "language": "python",
   "name": "python3"
  },
  "language_info": {
   "codemirror_mode": {
    "name": "ipython",
    "version": 3
   },
   "file_extension": ".py",
   "mimetype": "text/x-python",
   "name": "python",
   "nbconvert_exporter": "python",
   "pygments_lexer": "ipython3",
   "version": "3.8.3"
  }
 },
 "nbformat": 4,
 "nbformat_minor": 4
}
