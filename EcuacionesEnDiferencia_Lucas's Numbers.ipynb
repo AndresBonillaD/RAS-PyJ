{
 "cells": [
  {
   "cell_type": "markdown",
   "metadata": {},
   "source": [
    "# Lucas's Numbers"
   ]
  },
  {
   "cell_type": "markdown",
   "metadata": {},
   "source": [
    "* Los números de Lucas están relacionado con los números de Fibonacci, y están definidos por la siguiente secuencia $L_{n+2} = L_{n+1} + L_{n}$, $L_0=2$, $L_1=1$. Escriba un programa que imprima la siguiente información. El 18-th número de Lucas, el número de Lucas más cercano a 1000, y el primer número de Lucas más grande que 100."
   ]
  },
  {
   "cell_type": "markdown",
   "metadata": {},
   "source": [
    "##### Terminos iniciales de la sucuesion"
   ]
  },
  {
   "cell_type": "code",
   "execution_count": 29,
   "metadata": {},
   "outputs": [
    {
     "data": {
      "text/plain": [
       "(1, 2)"
      ]
     },
     "execution_count": 29,
     "metadata": {},
     "output_type": "execute_result"
    }
   ],
   "source": [
    "lCero = 1\n",
    "lUno = 2\n",
    "#Ln2 = Ln1 + Ln\n",
    "\n",
    "lCero, lUno"
   ]
  },
  {
   "cell_type": "markdown",
   "metadata": {},
   "source": [
    "##### Funcion recursiva"
   ]
  },
  {
   "cell_type": "code",
   "execution_count": 50,
   "metadata": {
    "collapsed": true
   },
   "outputs": [
    {
     "name": "stdout",
     "output_type": "stream",
     "text": [
      "1 : 1\n",
      "2 : 2\n",
      "3 : 3\n",
      "4 : 5\n",
      "5 : 8\n",
      "6 : 13\n",
      "7 : 21\n",
      "8 : 34\n",
      "9 : 55\n",
      "10 : 89\n",
      "11 : 144\n",
      "12 : 233\n",
      "13 : 377\n",
      "14 : 610\n",
      "15 : 987\n",
      "16 : 1597\n",
      "17 : 2584\n",
      "18 : 4181\n",
      "19 : 6765\n",
      "20 : 10946\n",
      "21 : 17711\n",
      "22 : 28657\n",
      "23 : 46368\n",
      "24 : 75025\n",
      "25 : 121393\n",
      "26 : 196418\n",
      "27 : 317811\n",
      "28 : 514229\n",
      "29 : 832040\n",
      "30 : 1346269\n",
      "31 : 2178309\n",
      "32 : 3524578\n",
      "33 : 5702887\n",
      "34 : 9227465\n",
      "35 : 14930352\n",
      "36 : 24157817\n",
      "37 : 39088169\n",
      "38 : 63245986\n",
      "39 : 102334155\n",
      "40 : 165580141\n",
      "41 : 267914296\n",
      "42 : 433494437\n",
      "43 : 701408733\n",
      "44 : 1134903170\n",
      "45 : 1836311903\n",
      "46 : 2971215073\n",
      "47 : 4807526976\n",
      "48 : 7778742049\n",
      "49 : 12586269025\n",
      "n + 1 / n : Ratio\n",
      "1 / 0 : 2.0\n",
      "2 / 1 : 1.5\n",
      "3 / 2 : 1.6666666666666667\n",
      "4 / 3 : 1.6\n",
      "5 / 4 : 1.625\n",
      "6 / 5 : 1.6153846153846154\n",
      "7 / 6 : 1.619047619047619\n",
      "8 / 7 : 1.6176470588235294\n",
      "9 / 8 : 1.6181818181818182\n",
      "10 / 9 : 1.6179775280898876\n",
      "11 / 10 : 1.6180555555555556\n",
      "12 / 11 : 1.6180257510729614\n",
      "13 / 12 : 1.6180371352785146\n",
      "14 / 13 : 1.618032786885246\n",
      "15 / 14 : 1.618034447821682\n",
      "16 / 15 : 1.6180338134001253\n",
      "17 / 16 : 1.618034055727554\n",
      "18 / 17 : 1.6180339631667064\n",
      "19 / 18 : 1.6180339985218033\n",
      "20 / 19 : 1.618033985017358\n",
      "21 / 20 : 1.6180339901755971\n",
      "22 / 21 : 1.618033988205325\n",
      "23 / 22 : 1.618033988957902\n",
      "24 / 23 : 1.6180339886704431\n",
      "25 / 24 : 1.6180339887802426\n",
      "26 / 25 : 1.618033988738303\n",
      "27 / 26 : 1.6180339887543225\n",
      "28 / 27 : 1.6180339887482036\n",
      "29 / 28 : 1.6180339887505408\n",
      "30 / 29 : 1.6180339887496482\n",
      "31 / 30 : 1.618033988749989\n",
      "32 / 31 : 1.618033988749859\n",
      "33 / 32 : 1.6180339887499087\n",
      "34 / 33 : 1.6180339887498896\n",
      "35 / 34 : 1.618033988749897\n",
      "36 / 35 : 1.618033988749894\n",
      "37 / 36 : 1.6180339887498951\n",
      "38 / 37 : 1.6180339887498947\n",
      "39 / 38 : 1.618033988749895\n",
      "40 / 39 : 1.618033988749895\n",
      "41 / 40 : 1.618033988749895\n",
      "42 / 41 : 1.618033988749895\n",
      "43 / 42 : 1.618033988749895\n",
      "44 / 43 : 1.618033988749895\n",
      "45 / 44 : 1.618033988749895\n",
      "46 / 45 : 1.618033988749895\n",
      "47 / 46 : 1.618033988749895\n",
      "48 / 47 : 1.618033988749895\n",
      "49 / 48 : 1.618033988749895\n"
     ]
    }
   ],
   "source": [
    "# import for memorization and performance optimization by caching the values of the funtion calls\n",
    "from functools import lru_cache\n",
    "\n",
    "@lru_cache(maxsize = 1000)\n",
    "def calculateLucasNumber(n):    \n",
    "    #recursive function to calculate de n-th term in the lucas number secetion\n",
    "    \n",
    "    #check n to be a positie integer\n",
    "    if type(n) != int:\n",
    "        raise TypeError(\"n must be a positive integer\")\n",
    "    if n < 1:\n",
    "        raise TypeError(\"n must be a positive integer\")\n",
    "    \n",
    "    #compute the n-th term\n",
    "    if n == 1:\n",
    "        return lCero\n",
    "    elif n == 2:\n",
    "        return lUno\n",
    "    elif n > 2:\n",
    "        return calculateLucasNumber(n - 1) + calculateLucasNumber(n - 2)\n",
    "\n",
    "    \n",
    "for n in range(1, 50):\n",
    "    print(n, \":\", calculateLucasNumber(n))\n",
    "\n",
    "\"\"\"\n",
    "print(\"n + 1\", \"/\", \"n\", \":\", \"Ratio\")\n",
    "for n in range(1, 50):\n",
    "    print(n, \"/\", n-1, \":\", calculateLucasNumber(n + 1) / calculateLucasNumber(n))\n",
    "\"\"\""
   ]
  },
  {
   "cell_type": "code",
   "execution_count": 41,
   "metadata": {},
   "outputs": [
    {
     "name": "stdout",
     "output_type": "stream",
     "text": [
      "18 : 4181\n"
     ]
    }
   ],
   "source": [
    "print (18, \":\",calculateLucasNumber(18))"
   ]
  },
  {
   "cell_type": "code",
   "execution_count": 51,
   "metadata": {},
   "outputs": [
    {
     "name": "stdout",
     "output_type": "stream",
     "text": [
      "15 : 987\n"
     ]
    }
   ],
   "source": [
    "for n in range(1, 100):\n",
    "    termValue = calculateLucasNumber(n)\n",
    "    if termValue >= 1000:\n",
    "        print(n - 1, \":\",calculateLucasNumber(n - 1))\n",
    "        break"
   ]
  },
  {
   "cell_type": "code",
   "execution_count": 52,
   "metadata": {},
   "outputs": [
    {
     "name": "stdout",
     "output_type": "stream",
     "text": [
      "16 : 1597\n"
     ]
    }
   ],
   "source": [
    "for n in range(1, 100):\n",
    "    termValue = calculateLucasNumber(n)\n",
    "    if termValue > 1000:\n",
    "        print(n, \":\",termValue)\n",
    "        break"
   ]
  }
 ],
 "metadata": {
  "kernelspec": {
   "display_name": "Python 3",
   "language": "python",
   "name": "python3"
  },
  "language_info": {
   "codemirror_mode": {
    "name": "ipython",
    "version": 3
   },
   "file_extension": ".py",
   "mimetype": "text/x-python",
   "name": "python",
   "nbconvert_exporter": "python",
   "pygments_lexer": "ipython3",
   "version": "3.8.3"
  }
 },
 "nbformat": 4,
 "nbformat_minor": 4
}
