{
 "cells": [
  {
   "cell_type": "markdown",
   "metadata": {},
   "source": [
    "#### Matematicas Discretas \n",
    "#### Taller Algoritmo RSA\n",
    "##### Introducción\n",
    "\n",
    "El algoritmo RSA es una de las piesas de teconolgia mas usadas el dia de hoy, como software de criptografia que permite enviar información a través de la red de manera segura el nombre del algoritmo viene de los nombres de los creadores Rivest, Shamir and Adleman, desarrolladores del sistema en 1977.\n",
    "\n",
    "El algoritmo RSA aplica aritmetica modular, para implementar un sistema de encriptación de llave publica, es decir, un sistema en donde caulquiera pude enviar mensajes, pero solo quien sea dueño del mensaje tiene la información necesaria para realizar las operaciones, puede leer el contenido, la afirmación de que la informacion ecriptada está segura, es sutentada por el sistema, que esta basado en que, la forma de encontrar la llave privada para desencriptar mensajes, a partir de la llave publica, es un problema que no pueden resolver ni los computadores mas poderosos, dada su naturaliza, si se escogen numeros primos suficientemente grandes para generar las claves, el problema se reduce a la factorizacion de un larguisimo numero primo en donde la unica opción es, aparentemente, fuerza bruta.\n",
    "\n",
    "En este contexto los mensajes son interpretados como listas de numeros enteros positivos que para el PC representan, cada uno, un caracter del string que contiene el mensaje. Estos numeros son operados por una funcion $f(w_1) = w_2$ en donde $w_1$ reprecenta el mensaje y $w_2$ es el mensaje encriptado. De manera similar $f^{-1}(w_2) = w_1$ siendo esta ultima la funcion desencriptar.  \n",
    "\n",
    "\n",
    "#### Razonamiento detras de la implementación\n",
    "\n",
    "En este ejemplo escogeremos dos numeros primos arbitrarios y con ellos generaremos los valores para la clave publica y privada correspondientes, para realizar un proceso \"encryptation and decryption\"\n",
    "\n",
    "1. Se seleccionan dos numeros primos\n",
    "\n",
    "    $p, q$\n",
    "       \n",
    "2. Dados $p$ y $q$ se calculan\n",
    "\n",
    "    $m = (p-1)(q-1)$\n",
    "    \n",
    "    $n = pq$\n",
    "      \n",
    "En este momento debemos encontrar dos numeros $x$ y $y$ que cumplan las siguientes coniciones:\n",
    "los números $x, y$ deben ser coprimos de $m$ y se debe cumplir que $xy \\equiv 1(\\mod m)$.\n",
    "\n",
    "Escogemos $x$ igual a un número coprimo de m y luego se soluciona la ecuación modular para $y$ utilizando Euclid's algorithm and backwars substitution encontramos el valor de $y$.\n",
    "\n",
    "$xy \\equiv 1(\\mod m)$\n",
    "   \n",
    "$xy - 1 = km$\n",
    "   \n",
    "$xy - km = 1$\n",
    "   \n",
    "Los numeros $x$ y $y$ se usan para expresar las llaves de encriptación y desencripción ${x,n}$ forman la llave publica y son distribuidos a quines son emisores de los mensajes ${y}$ queda en posición del receptor de los mensajes. De manera que los mensages se encriptan de la siguiente manera.\n",
    "   \n",
    "$f(w_1) = w_1^{x} \\equiv (\\mod n)$\n",
    "   \n",
    "y son desencriptados\n",
    "   \n",
    "$f^{-1}(w_2) = w_2^{y} \\equiv (\\mod n)$\n",
    "\n",
    "\n",
    "#### Referencias\n",
    "Grossman Peter, Discrete Mathematics for Computing, second edition, pg235\n",
    "\n",
    "JonCooperWorks/rsa.py\n",
    "https://gist.github.com/JonCooperWorks/5314103"
   ]
  },
  {
   "cell_type": "code",
   "execution_count": null,
   "metadata": {},
   "outputs": [],
   "source": []
  },
  {
   "cell_type": "code",
   "execution_count": 42,
   "metadata": {},
   "outputs": [
    {
     "name": "stdout",
     "output_type": "stream",
     "text": [
      "RSA Encrypter/ Decrypter\n",
      "Enter a prime number (17, 19, 23, etc): 3\n",
      "Enter another prime number (Not one you entered above): 7\n",
      "3 7\n"
     ]
    }
   ],
   "source": [
    "print (\"RSA Encrypter/ Decrypter\")\n",
    "p = int(input(\"Enter a prime number (17, 19, 23, etc): \"))\n",
    "q = int(input(\"Enter another prime number (Not one you entered above): \"))\n",
    "\n",
    "print(p,q)"
   ]
  },
  {
   "cell_type": "code",
   "execution_count": 43,
   "metadata": {},
   "outputs": [
    {
     "name": "stdout",
     "output_type": "stream",
     "text": [
      "21 12\n"
     ]
    }
   ],
   "source": [
    "# m es el calculo del valor de la funcion PHI para n, que se calculade esa manera ya que conocemos de antemano que p y q son primos\n",
    "n = p*q\n",
    "m = (p-1) * (q-1)\n",
    "\n",
    "print(n, m)"
   ]
  },
  {
   "cell_type": "code",
   "execution_count": 34,
   "metadata": {},
   "outputs": [],
   "source": [
    "#fucnion para determinar el mcd enre dos numeros\n",
    "def mcd(a, b):\n",
    "    while b != 0:\n",
    "        a, b = b, a % b\n",
    "    return a"
   ]
  },
  {
   "cell_type": "code",
   "execution_count": 49,
   "metadata": {
    "scrolled": true
   },
   "outputs": [
    {
     "name": "stdout",
     "output_type": "stream",
     "text": [
      "coprime found\n",
      "coprime found\n",
      "coprime found\n",
      "[1, 5, 7]\n"
     ]
    }
   ],
   "source": [
    "#encuentra numeros coprimos de m\n",
    "cont = 0\n",
    "i = 0\n",
    "coprimes = []\n",
    "while cont < 3 and i < 50:\n",
    "    if mcd(m,i) == 1:\n",
    "        print(\"coprime found\")\n",
    "        coprimes.append(i)\n",
    "        cont += 1\n",
    "        \n",
    "    i += 1\n",
    "    \n",
    "print(coprimes)"
   ]
  },
  {
   "cell_type": "code",
   "execution_count": null,
   "metadata": {},
   "outputs": [],
   "source": [
    "def multiplicative_inverse(e, phi):\n",
    "    d = 0\n",
    "    x1 = 0\n",
    "    x2 = 1\n",
    "    y1 = 1\n",
    "    temp_phi = phi\n",
    "    \n",
    "    while e > 0:\n",
    "        temp1 = temp_phi/e\n",
    "        temp2 = temp_phi - temp1 * e\n",
    "        temp_phi = e\n",
    "        e = temp2\n",
    "        \n",
    "        x = x2- temp1* x1\n",
    "        y = d - temp1 * y1\n",
    "        \n",
    "        x2 = x1\n",
    "        x1 = x\n",
    "        d = y1\n",
    "        y1 = y\n",
    "    \n",
    "    if temp_phi == 1:\n",
    "        return d + phi"
   ]
  }
 ],
 "metadata": {
  "kernelspec": {
   "display_name": "Python 3",
   "language": "python",
   "name": "python3"
  },
  "language_info": {
   "codemirror_mode": {
    "name": "ipython",
    "version": 3
   },
   "file_extension": ".py",
   "mimetype": "text/x-python",
   "name": "python",
   "nbconvert_exporter": "python",
   "pygments_lexer": "ipython3",
   "version": "3.8.3"
  }
 },
 "nbformat": 4,
 "nbformat_minor": 4
}
